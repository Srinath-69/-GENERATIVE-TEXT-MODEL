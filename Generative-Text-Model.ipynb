{
 "cells": [
  {
   "cell_type": "markdown",
   "id": "ea95c038-eecb-4fda-9644-e45e5ed12707",
   "metadata": {},
   "source": [
    "                                       ---libraries---\n",
    "transformers\n",
    "\n",
    "torch"
   ]
  },
  {
   "cell_type": "markdown",
   "id": "8d29077a-90ca-481d-8311-5b995973c3df",
   "metadata": {},
   "source": [
    "                           ---Importing dependencies & Pre-trained model--"
   ]
  },
  {
   "cell_type": "code",
   "execution_count": 7,
   "id": "9a449bed-69a8-4dd6-9f28-77ad07efd18a",
   "metadata": {},
   "outputs": [],
   "source": [
    "from transformers import GPT2LMHeadModel, GPT2Tokenizer\n",
    "import torch"
   ]
  },
  {
   "cell_type": "markdown",
   "id": "62390987-a189-4591-a402-04e219933d60",
   "metadata": {},
   "source": [
    "                           ---Load pre-trained model and tokenizer---"
   ]
  },
  {
   "cell_type": "code",
   "execution_count": 9,
   "id": "59b63cd6-1f34-47e7-a461-79c26c3e6aa7",
   "metadata": {},
   "outputs": [],
   "source": [
    "model_name = \"gpt2\"\n",
    "tokenizer = GPT2Tokenizer.from_pretrained(model_name)\n",
    "model = GPT2LMHeadModel.from_pretrained(model_name)"
   ]
  },
  {
   "cell_type": "markdown",
   "id": "9dd3553e-7736-4093-9751-f17631cd2392",
   "metadata": {},
   "source": [
    "                           ---Preproces And Load---"
   ]
  },
  {
   "cell_type": "code",
   "execution_count": 23,
   "id": "2b817c7e-f252-473a-b5b1-2aaaaa03a147",
   "metadata": {},
   "outputs": [],
   "source": [
    "def generate_paragraph(prompt, max_length=260, temperature=0.8):\n",
    "    input_ids = tokenizer.encode(prompt, return_tensors='pt')\n",
    "    attention_mask = torch.ones(input_ids.shape, dtype=torch.long)\n",
    "\n",
    "    with torch.no_grad():\n",
    "        output_ids = model.generate(\n",
    "            input_ids=input_ids,\n",
    "            attention_mask=attention_mask,\n",
    "            max_length=max_length,\n",
    "            temperature=temperature,\n",
    "            top_k=50,\n",
    "            top_p=0.95,\n",
    "            num_return_sequences=1,\n",
    "            no_repeat_ngram_size=2,\n",
    "            do_sample=True,\n",
    "            pad_token_id=tokenizer.eos_token_id\n",
    "        )\n",
    "\n",
    "    return tokenizer.decode(output_ids[0], skip_special_tokens=True)\n"
   ]
  },
  {
   "cell_type": "markdown",
   "id": "b8508ff4-2a68-46b9-8c20-b9383032735b",
   "metadata": {},
   "source": [
    "                                  ---Output---"
   ]
  },
  {
   "cell_type": "code",
   "execution_count": 25,
   "id": "bbd41c85-560e-42cb-9b67-4dd5715d93da",
   "metadata": {
    "scrolled": true
   },
   "outputs": [
    {
     "name": "stdout",
     "output_type": "stream",
     "text": [
      "-Generated Paragraph:-\n",
      "\n",
      "What is the future for tech jobs in india?\n",
      "\n",
      "First and foremost, we need to get our economy moving again. Our tech sector will be at the forefront of the transformation in India. We have the highest job growth in the world and we are going to see our government take a lead role in this.\n",
      ", the economy is going through an excellent financial year. The number of employees working in tech has increased from 6.5 lakh in 2011 to 11.1 lakh today. It is now 9.8 lakh (with a new number for the last year).\n",
      ". India is a top destination for jobs. There are some countries that have great tech talent in our country. China is in first place, but it is still in fourth place (behind only the US and Japan). The UK is at number one. Australia is number two. That means that Indian tech is expected to grow by around 300,000 jobs annually, and that number is growing faster than the number in Australia. As we continue to move away from the Indian model of technology, it will become even more important to look at how to bring more jobs back to India and bring jobs to our shores. This would involve investing in smart cities and other innovations in areas such as infrastructure and green infrastructure. These are the\n"
     ]
    }
   ],
   "source": [
    "topic = \"What is the future for tech jobs in india?\"\n",
    "generated_paragraph = generate_paragraph(topic)\n",
    "print(\"-Generated Paragraph:-\\n\")\n",
    "print(generated_paragraph)"
   ]
  },
  {
   "cell_type": "code",
   "execution_count": null,
   "id": "cacb463b-6a18-48f4-9c37-3a775995079c",
   "metadata": {},
   "outputs": [],
   "source": []
  }
 ],
 "metadata": {
  "kernelspec": {
   "display_name": "Python 3 (ipykernel)",
   "language": "python",
   "name": "python3"
  },
  "language_info": {
   "codemirror_mode": {
    "name": "ipython",
    "version": 3
   },
   "file_extension": ".py",
   "mimetype": "text/x-python",
   "name": "python",
   "nbconvert_exporter": "python",
   "pygments_lexer": "ipython3",
   "version": "3.12.7"
  }
 },
 "nbformat": 4,
 "nbformat_minor": 5
}
